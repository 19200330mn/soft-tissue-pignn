{
 "cells": [
  {
   "cell_type": "markdown",
   "metadata": {},
   "source": [
    "# FEniCS Example\n",
    "\n",
    "This notebook outlines how to use [FEniCS](https://fenicsproject.org/) to solve the ``OnceClampedBeam`` problem from Section 3.1 of [this paper](https://www.sciencedirect.com/science/article/pii/S0045782523004759). \n",
    "\n",
    "In brief, for this problem we have a rectangular beam which follows the Neo-Hookean constitutive law. The beam is clamped at one end, and we wish to solve for the displacement of the beam as it deforms under its own weight due to gravity."
   ]
  },
  {
   "cell_type": "markdown",
   "metadata": {},
   "source": [
    "##### Import packages"
   ]
  },
  {
   "cell_type": "code",
   "execution_count": 1,
   "metadata": {
    "ExecuteTime": {
     "end_time": "2022-11-24T14:43:50.431407Z",
     "start_time": "2022-11-24T14:43:49.510360Z"
    },
    "execution": {
     "iopub.execute_input": "2025-03-05T15:36:31.133333Z",
     "iopub.status.busy": "2025-03-05T15:36:31.133037Z",
     "iopub.status.idle": "2025-03-05T15:36:34.705122Z",
     "shell.execute_reply": "2025-03-05T15:36:34.704489Z",
     "shell.execute_reply.started": "2025-03-05T15:36:31.133296Z"
    }
   },
   "outputs": [],
   "source": [
    "from fenics import *\n",
    "import numpy as np\n",
    "import matplotlib.pyplot as plt\n",
    "import os"
   ]
  },
  {
   "cell_type": "markdown",
   "metadata": {},
   "source": [
    "FEniCS can be installed by uncommenting the below:"
   ]
  },
  {
   "cell_type": "code",
   "execution_count": 2,
   "metadata": {
    "execution": {
     "iopub.execute_input": "2025-03-05T15:36:34.706297Z",
     "iopub.status.busy": "2025-03-05T15:36:34.705982Z",
     "iopub.status.idle": "2025-03-05T15:36:34.717684Z",
     "shell.execute_reply": "2025-03-05T15:36:34.717124Z",
     "shell.execute_reply.started": "2025-03-05T15:36:34.706274Z"
    }
   },
   "outputs": [],
   "source": [
    "# ! conda install -c conda-forge fenics"
   ]
  },
  {
   "cell_type": "markdown",
   "metadata": {},
   "source": [
    "## Set up problem"
   ]
  },
  {
   "cell_type": "markdown",
   "metadata": {},
   "source": [
    "##### Specify material parameter values $\\boldsymbol{\\theta}$"
   ]
  },
  {
   "cell_type": "code",
   "execution_count": 3,
   "metadata": {
    "execution": {
     "iopub.execute_input": "2025-03-05T15:36:34.719346Z",
     "iopub.status.busy": "2025-03-05T15:36:34.719110Z",
     "iopub.status.idle": "2025-03-05T15:36:34.722151Z",
     "shell.execute_reply": "2025-03-05T15:36:34.721686Z",
     "shell.execute_reply.started": "2025-03-05T15:36:34.719328Z"
    }
   },
   "outputs": [],
   "source": [
    "theta = np.array([5e5, 1e6])\n",
    "\n",
    "n_params = theta.shape[0]"
   ]
  },
  {
   "cell_type": "markdown",
   "metadata": {},
   "source": [
    "##### Create mesh and define function space"
   ]
  },
  {
   "cell_type": "code",
   "execution_count": 4,
   "metadata": {
    "execution": {
     "iopub.execute_input": "2025-03-05T15:36:34.722704Z",
     "iopub.status.busy": "2025-03-05T15:36:34.722559Z",
     "iopub.status.idle": "2025-03-05T15:36:34.805286Z",
     "shell.execute_reply": "2025-03-05T15:36:34.804831Z",
     "shell.execute_reply.started": "2025-03-05T15:36:34.722688Z"
    }
   },
   "outputs": [
    {
     "data": {
      "text/plain": [
       "1170"
      ]
     },
     "execution_count": 4,
     "metadata": {},
     "output_type": "execute_result"
    }
   ],
   "source": [
    "# finite element mesh\n",
    "mesh = BoxMesh(Point(0.0, 0.0, 0.0), Point(10., 1., 1.), 12, 4, 5)\n",
    "\n",
    "# define function space\n",
    "V = VectorFunctionSpace(mesh, 'P', 1)\n",
    "\n",
    "# check dimension of the function space\n",
    "V.dim()"
   ]
  },
  {
   "cell_type": "markdown",
   "metadata": {},
   "source": [
    "##### Specify the clamped Dirichlet boundary conditions"
   ]
  },
  {
   "cell_type": "code",
   "execution_count": 5,
   "metadata": {
    "execution": {
     "iopub.execute_input": "2025-03-05T15:36:34.806331Z",
     "iopub.status.busy": "2025-03-05T15:36:34.805991Z",
     "iopub.status.idle": "2025-03-05T15:36:34.811366Z",
     "shell.execute_reply": "2025-03-05T15:36:34.810877Z",
     "shell.execute_reply.started": "2025-03-05T15:36:34.806308Z"
    }
   },
   "outputs": [],
   "source": [
    "# boundary is left hand side of the beam\n",
    "left =  CompiledSubDomain(\"near(x[0], side) && on_boundary\", side = 0.0)\n",
    "\n",
    "# no displacement on boundary\n",
    "c = Constant((0.0, 0.0, 0.0))\n",
    "\n",
    "bcl = DirichletBC(V, c, left)\n",
    "bcs = [bcl]"
   ]
  },
  {
   "cell_type": "markdown",
   "metadata": {},
   "source": [
    "##### Define test and trial functions"
   ]
  },
  {
   "cell_type": "code",
   "execution_count": 6,
   "metadata": {
    "execution": {
     "iopub.execute_input": "2025-03-05T15:36:34.812347Z",
     "iopub.status.busy": "2025-03-05T15:36:34.812078Z",
     "iopub.status.idle": "2025-03-05T15:36:34.818901Z",
     "shell.execute_reply": "2025-03-05T15:36:34.818445Z",
     "shell.execute_reply.started": "2025-03-05T15:36:34.812332Z"
    }
   },
   "outputs": [],
   "source": [
    "# Incremental displacement\n",
    "du = TrialFunction(V)            \n",
    "\n",
    "# Test function\n",
    "v  = TestFunction(V)             \n",
    "\n",
    "# Displacement from previous iteration\n",
    "u  = Function(V)                 "
   ]
  },
  {
   "cell_type": "markdown",
   "metadata": {},
   "source": [
    "##### Define external body force (gravity)"
   ]
  },
  {
   "cell_type": "code",
   "execution_count": 7,
   "metadata": {
    "execution": {
     "iopub.execute_input": "2025-03-05T15:36:34.819835Z",
     "iopub.status.busy": "2025-03-05T15:36:34.819574Z",
     "iopub.status.idle": "2025-03-05T15:36:34.826602Z",
     "shell.execute_reply": "2025-03-05T15:36:34.826008Z",
     "shell.execute_reply.started": "2025-03-05T15:36:34.819820Z"
    }
   },
   "outputs": [],
   "source": [
    "# density of the beam\n",
    "rho = 1.\n",
    "\n",
    "# acceleration due to gravity\n",
    "g   = 980. \n",
    "\n",
    "# Body force per unit volume\n",
    "B = Constant((0., 0., -rho*g))"
   ]
  },
  {
   "cell_type": "markdown",
   "metadata": {},
   "source": [
    "##### Define total potential energy $\\Pi$"
   ]
  },
  {
   "cell_type": "code",
   "execution_count": 8,
   "metadata": {
    "execution": {
     "iopub.execute_input": "2025-03-05T15:36:34.827681Z",
     "iopub.status.busy": "2025-03-05T15:36:34.827412Z",
     "iopub.status.idle": "2025-03-05T15:36:34.837228Z",
     "shell.execute_reply": "2025-03-05T15:36:34.836626Z",
     "shell.execute_reply.started": "2025-03-05T15:36:34.827664Z"
    }
   },
   "outputs": [],
   "source": [
    "def compute_Pi(u, material_params, return_all_values=False):\n",
    "    \n",
    "    # dimensionality of the system\n",
    "    D = len(u)\n",
    "    \n",
    "    # identity matrix\n",
    "    I = Identity(D)\n",
    "    \n",
    "    # Deformation gradient\n",
    "    F = I + grad(u)  \n",
    "    \n",
    "    # Right Cauchy-Green tensor\n",
    "    C = F.T*F        \n",
    "    \n",
    "    # Invariants\n",
    "    Ic = tr(C)\n",
    "    J  = det(F)\n",
    "    \n",
    "    # extract Lame parameters\n",
    "    mu, lambda_ = material_params\n",
    "\n",
    "    # compressible Neo-Hookean constitutive law\n",
    "    psi = (mu/2)*(Ic - 3) - mu*ln(J) + (lambda_/2)*(ln(J))**2\n",
    "\n",
    "    # internal potential energy is the integral of psi over the domain\n",
    "    Pi_internal= psi*dx\n",
    "    \n",
    "    # external potential energy for this example is the work due to body force B\n",
    "    Pi_external = dot(B, u)*dx\n",
    "    \n",
    "    # Total potential energy \n",
    "    Pi = Pi_internal - Pi_external\n",
    "\n",
    "    # we might want to inspect internal and external potential energies\n",
    "    if return_all_values:\n",
    "        return Pi, Pi_internal, Pi_external\n",
    "\n",
    "    # otherwise just return Pi\n",
    "    return Pi\n",
    "\n",
    "Pi = compute_Pi(u, theta)"
   ]
  },
  {
   "cell_type": "markdown",
   "metadata": {},
   "source": [
    "## Solve Problem"
   ]
  },
  {
   "cell_type": "code",
   "execution_count": 9,
   "metadata": {
    "execution": {
     "iopub.execute_input": "2025-03-05T15:36:34.838085Z",
     "iopub.status.busy": "2025-03-05T15:36:34.837872Z",
     "iopub.status.idle": "2025-03-05T15:36:41.866671Z",
     "shell.execute_reply": "2025-03-05T15:36:41.866135Z",
     "shell.execute_reply.started": "2025-03-05T15:36:34.838068Z"
    }
   },
   "outputs": [
    {
     "name": "stdout",
     "output_type": "stream",
     "text": [
      "Solving nonlinear variational problem.\n",
      "  Newton iteration 0: r (abs) = 5.442e+02 (tol = 1.000e-10) r (rel) = 1.000e+00 (tol = 1.000e-09)\n",
      "  Newton iteration 1: r (abs) = 1.018e+06 (tol = 1.000e-10) r (rel) = 1.870e+03 (tol = 1.000e-09)\n",
      "  Newton iteration 2: r (abs) = 3.543e+05 (tol = 1.000e-10) r (rel) = 6.511e+02 (tol = 1.000e-09)\n",
      "  Newton iteration 3: r (abs) = 3.831e+04 (tol = 1.000e-10) r (rel) = 7.040e+01 (tol = 1.000e-09)\n",
      "  Newton iteration 4: r (abs) = 2.744e+03 (tol = 1.000e-10) r (rel) = 5.042e+00 (tol = 1.000e-09)\n",
      "  Newton iteration 5: r (abs) = 4.267e+02 (tol = 1.000e-10) r (rel) = 7.841e-01 (tol = 1.000e-09)\n",
      "  Newton iteration 6: r (abs) = 9.444e+00 (tol = 1.000e-10) r (rel) = 1.735e-02 (tol = 1.000e-09)\n",
      "  Newton iteration 7: r (abs) = 3.041e-02 (tol = 1.000e-10) r (rel) = 5.587e-05 (tol = 1.000e-09)\n",
      "  Newton iteration 8: r (abs) = 6.766e-08 (tol = 1.000e-10) r (rel) = 1.243e-10 (tol = 1.000e-09)\n",
      "  Newton solver finished in 8 iterations and 8 linear solver iterations.\n"
     ]
    }
   ],
   "source": [
    "# Compute first variation of Pi (directional derivative about u in the direction of v)\n",
    "G = derivative(Pi, u, v)\n",
    "\n",
    "# Compute Jacobian of F\n",
    "dG = derivative(G, u, du)\n",
    "\n",
    "# Solve variational problem\n",
    "solve(G == 0, u, bcs, J=dG)"
   ]
  },
  {
   "cell_type": "markdown",
   "metadata": {
    "execution": {
     "iopub.execute_input": "2025-03-05T14:41:15.095052Z",
     "iopub.status.busy": "2025-03-05T14:41:15.094542Z",
     "iopub.status.idle": "2025-03-05T14:41:15.103493Z",
     "shell.execute_reply": "2025-03-05T14:41:15.101883Z",
     "shell.execute_reply.started": "2025-03-05T14:41:15.095033Z"
    }
   },
   "source": [
    "##### Extract results to numpy"
   ]
  },
  {
   "cell_type": "code",
   "execution_count": 10,
   "metadata": {
    "execution": {
     "iopub.execute_input": "2025-03-05T15:36:41.867767Z",
     "iopub.status.busy": "2025-03-05T15:36:41.867507Z",
     "iopub.status.idle": "2025-03-05T15:36:41.880366Z",
     "shell.execute_reply": "2025-03-05T15:36:41.879976Z",
     "shell.execute_reply.started": "2025-03-05T15:36:41.867752Z"
    }
   },
   "outputs": [
    {
     "data": {
      "text/plain": [
       "(390, 3)"
      ]
     },
     "execution_count": 10,
     "metadata": {},
     "output_type": "execute_result"
    }
   ],
   "source": [
    "displacement = u.compute_vertex_values().reshape(mesh.coordinates().shape, order='F')\n",
    "\n",
    "displacement.shape"
   ]
  },
  {
   "cell_type": "markdown",
   "metadata": {},
   "source": [
    "##### Print statistics relating to the magnitude of the displacements"
   ]
  },
  {
   "cell_type": "code",
   "execution_count": 11,
   "metadata": {
    "execution": {
     "iopub.execute_input": "2025-03-05T15:36:41.881168Z",
     "iopub.status.busy": "2025-03-05T15:36:41.880934Z",
     "iopub.status.idle": "2025-03-05T15:36:41.900365Z",
     "shell.execute_reply": "2025-03-05T15:36:41.899980Z",
     "shell.execute_reply.started": "2025-03-05T15:36:41.881154Z"
    }
   },
   "outputs": [
    {
     "name": "stdout",
     "output_type": "stream",
     "text": [
      "Beam Dimensions    : 10.0*1.0*1.0 cm\n",
      "Num Nodes          : 390\n",
      "mu / lambda        : 500000.0/1000000.0\n",
      "Max  Disp. Norm    : 4.938831 cm\n",
      "Mean Disp. Norm    : 2.042705 cm\n",
      "\n",
      "displacement[:3]: \n",
      "[[ 0.          0.          0.        ]\n",
      " [-0.07520687 -0.00756748 -0.07513904]\n",
      " [-0.15358888 -0.00074147 -0.25225487]]\n"
     ]
    }
   ],
   "source": [
    "displacement_norms = ((displacement**2).sum(-1)**.5)\n",
    "L, H, W = mesh.coordinates().max(0)\n",
    "n_nodes = mesh.coordinates().shape[0]\n",
    "\n",
    "print(f'Beam Dimensions    : {L}*{H}*{W} cm')\n",
    "print(f'Num Nodes          : {n_nodes}')\n",
    "print(f'mu / lambda        : {theta[0]}/{theta[1]}')\n",
    "print(f'Max  Disp. Norm    : {displacement_norms.max():5f} cm')\n",
    "print(f'Mean Disp. Norm    : {displacement_norms.mean():5f} cm\\n')\n",
    "print(f'displacement[:3]: \\n{displacement[:3]}')"
   ]
  },
  {
   "cell_type": "markdown",
   "metadata": {},
   "source": [
    "##### Compute the total potential energy value for the computed solution function"
   ]
  },
  {
   "cell_type": "code",
   "execution_count": 12,
   "metadata": {
    "execution": {
     "iopub.execute_input": "2025-03-05T15:36:41.902121Z",
     "iopub.status.busy": "2025-03-05T15:36:41.901877Z",
     "iopub.status.idle": "2025-03-05T15:36:41.925618Z",
     "shell.execute_reply": "2025-03-05T15:36:41.925298Z",
     "shell.execute_reply.started": "2025-03-05T15:36:41.902106Z"
    }
   },
   "outputs": [],
   "source": [
    "Pi_vals = compute_Pi(u, theta, True)\n",
    "Pi, Pi_internal, Pi_external = [assemble(val) for val in Pi_vals]"
   ]
  },
  {
   "cell_type": "code",
   "execution_count": 13,
   "metadata": {
    "execution": {
     "iopub.execute_input": "2025-03-05T15:36:41.926601Z",
     "iopub.status.busy": "2025-03-05T15:36:41.926026Z",
     "iopub.status.idle": "2025-03-05T15:36:41.929421Z",
     "shell.execute_reply": "2025-03-05T15:36:41.929093Z",
     "shell.execute_reply.started": "2025-03-05T15:36:41.926585Z"
    }
   },
   "outputs": [
    {
     "name": "stdout",
     "output_type": "stream",
     "text": [
      "Internal potential energy: 8727.402580\n",
      "External potential energy: 19003.827557\n",
      "Total potential energy   : -10276.424978\n"
     ]
    }
   ],
   "source": [
    "print(f\"Internal potential energy: {Pi_internal:2f}\")\n",
    "print(f\"External potential energy: {Pi_external:2f}\")\n",
    "print(f\"Total potential energy   : {Pi:2f}\")"
   ]
  },
  {
   "cell_type": "markdown",
   "metadata": {
    "execution": {
     "iopub.execute_input": "2025-03-05T14:48:55.051689Z",
     "iopub.status.busy": "2025-03-05T14:48:55.051363Z",
     "iopub.status.idle": "2025-03-05T14:48:55.056757Z",
     "shell.execute_reply": "2025-03-05T14:48:55.056074Z",
     "shell.execute_reply.started": "2025-03-05T14:48:55.051661Z"
    }
   },
   "source": [
    "## Saving results\n",
    "\n",
    "The above code runs a simulation for a single value of the material parameters ``theta``.\n",
    "\n",
    "To generate the test datasets used in the paper (like [here](https://github.com/dodaltuin/soft-tissue-pignn/tree/main/data/OnceClampedBeam/simulationData/test) here for example), I re-ran the fenics simulation code for different values of ``theta`` (this can be achieved by a simple for loop over the above commands).\n",
    "\n",
    "I then collected the ``displacement``, `theta` and ``Pi_total`` values for each simulation into lists, concatenated them to numpy arrays and then saved the results.\n",
    "\n",
    "The below code gives an idea of how this can be done:"
   ]
  },
  {
   "cell_type": "code",
   "execution_count": 14,
   "metadata": {
    "execution": {
     "iopub.execute_input": "2025-03-05T15:36:41.930928Z",
     "iopub.status.busy": "2025-03-05T15:36:41.930364Z",
     "iopub.status.idle": "2025-03-05T15:36:41.935960Z",
     "shell.execute_reply": "2025-03-05T15:36:41.935704Z",
     "shell.execute_reply.started": "2025-03-05T15:36:41.930914Z"
    }
   },
   "outputs": [],
   "source": [
    "# suppose for instance we have run 10 test simulations\n",
    "n_test = 10\n",
    "\n",
    "# the list of displacements / theta / Pi_total values would then look something like this: \n",
    "disp_list  = [displacement.copy()]*n_test\n",
    "theta_list = [theta]*n_test\n",
    "Pi_list    = [Pi]*n_test"
   ]
  },
  {
   "cell_type": "markdown",
   "metadata": {},
   "source": [
    "Note that of course in practice, the elements of the above lists would differ because they would correspond to different simulations. Here they are all equal for simplicity - the code to save the results (see below) doesn't change."
   ]
  },
  {
   "cell_type": "markdown",
   "metadata": {},
   "source": [
    "The first thing to do is to concatenate into numpy arrays:"
   ]
  },
  {
   "cell_type": "code",
   "execution_count": 15,
   "metadata": {
    "execution": {
     "iopub.execute_input": "2025-03-05T15:36:41.937403Z",
     "iopub.status.busy": "2025-03-05T15:36:41.936878Z",
     "iopub.status.idle": "2025-03-05T15:36:41.941901Z",
     "shell.execute_reply": "2025-03-05T15:36:41.941659Z",
     "shell.execute_reply.started": "2025-03-05T15:36:41.937389Z"
    }
   },
   "outputs": [],
   "source": [
    "disp_arrs  = np.array(disp_list)\n",
    "theta_arrs = np.array(theta_list)\n",
    "Pi_arrs    = np.array(Pi_list)"
   ]
  },
  {
   "cell_type": "markdown",
   "metadata": {},
   "source": [
    "The shape of ``disp_arrs`` is ``(n_test x n_nodes x D)``:"
   ]
  },
  {
   "cell_type": "code",
   "execution_count": 16,
   "metadata": {
    "execution": {
     "iopub.execute_input": "2025-03-05T15:36:41.943345Z",
     "iopub.status.busy": "2025-03-05T15:36:41.942804Z",
     "iopub.status.idle": "2025-03-05T15:36:41.948371Z",
     "shell.execute_reply": "2025-03-05T15:36:41.948070Z",
     "shell.execute_reply.started": "2025-03-05T15:36:41.943331Z"
    }
   },
   "outputs": [
    {
     "data": {
      "text/plain": [
       "(10, 390, 3)"
      ]
     },
     "execution_count": 16,
     "metadata": {},
     "output_type": "execute_result"
    }
   ],
   "source": [
    "disp_arrs.shape"
   ]
  },
  {
   "cell_type": "markdown",
   "metadata": {},
   "source": [
    "The shape of ``theta_arrs`` is ``(n_test x n_params)``:"
   ]
  },
  {
   "cell_type": "code",
   "execution_count": 17,
   "metadata": {
    "execution": {
     "iopub.execute_input": "2025-03-05T15:36:41.948951Z",
     "iopub.status.busy": "2025-03-05T15:36:41.948776Z",
     "iopub.status.idle": "2025-03-05T15:36:41.956076Z",
     "shell.execute_reply": "2025-03-05T15:36:41.955730Z",
     "shell.execute_reply.started": "2025-03-05T15:36:41.948937Z"
    }
   },
   "outputs": [
    {
     "data": {
      "text/plain": [
       "(10, 2)"
      ]
     },
     "execution_count": 17,
     "metadata": {},
     "output_type": "execute_result"
    }
   ],
   "source": [
    "theta_arrs.shape"
   ]
  },
  {
   "cell_type": "markdown",
   "metadata": {},
   "source": [
    "The shape of ``Pi_arrs`` is ``(n_test,)``:"
   ]
  },
  {
   "cell_type": "code",
   "execution_count": 18,
   "metadata": {
    "execution": {
     "iopub.execute_input": "2025-03-05T15:36:41.956857Z",
     "iopub.status.busy": "2025-03-05T15:36:41.956546Z",
     "iopub.status.idle": "2025-03-05T15:36:41.963310Z",
     "shell.execute_reply": "2025-03-05T15:36:41.962988Z",
     "shell.execute_reply.started": "2025-03-05T15:36:41.956841Z"
    }
   },
   "outputs": [
    {
     "data": {
      "text/plain": [
       "(10,)"
      ]
     },
     "execution_count": 18,
     "metadata": {},
     "output_type": "execute_result"
    }
   ],
   "source": [
    "Pi_arrs.shape"
   ]
  },
  {
   "cell_type": "markdown",
   "metadata": {},
   "source": [
    "Then create a directory to save the results in"
   ]
  },
  {
   "cell_type": "code",
   "execution_count": 19,
   "metadata": {
    "execution": {
     "iopub.execute_input": "2025-03-05T15:36:41.964283Z",
     "iopub.status.busy": "2025-03-05T15:36:41.963925Z",
     "iopub.status.idle": "2025-03-05T15:36:41.972969Z",
     "shell.execute_reply": "2025-03-05T15:36:41.972663Z",
     "shell.execute_reply.started": "2025-03-05T15:36:41.964263Z"
    }
   },
   "outputs": [
    {
     "data": {
      "text/plain": [
       "'exampleTestDir'"
      ]
     },
     "execution_count": 19,
     "metadata": {},
     "output_type": "execute_result"
    }
   ],
   "source": [
    "results_save_dir = \"exampleTestDir\"\n",
    "if not os.path.isdir(results_save_dir): os.makedirs(results_save_dir)\n",
    "results_save_dir"
   ]
  },
  {
   "cell_type": "markdown",
   "metadata": {
    "execution": {
     "iopub.execute_input": "2025-03-05T15:06:25.288479Z",
     "iopub.status.busy": "2025-03-05T15:06:25.288206Z",
     "iopub.status.idle": "2025-03-05T15:06:25.292555Z",
     "shell.execute_reply": "2025-03-05T15:06:25.292101Z",
     "shell.execute_reply.started": "2025-03-05T15:06:25.288460Z"
    }
   },
   "source": [
    "The results can finally be saved:"
   ]
  },
  {
   "cell_type": "code",
   "execution_count": 20,
   "metadata": {
    "execution": {
     "iopub.execute_input": "2025-03-05T15:36:41.974500Z",
     "iopub.status.busy": "2025-03-05T15:36:41.973578Z",
     "iopub.status.idle": "2025-03-05T15:36:41.987304Z",
     "shell.execute_reply": "2025-03-05T15:36:41.986252Z",
     "shell.execute_reply.started": "2025-03-05T15:36:41.974482Z"
    }
   },
   "outputs": [],
   "source": [
    "np.save(f'{results_save_dir}/displacement.npy', disp_arrs)\n",
    "np.save(f'{results_save_dir}/theta.npy', theta_arrs)\n",
    "np.save(f'{results_save_dir}/pe-values.npy', Pi_arrs)"
   ]
  },
  {
   "cell_type": "markdown",
   "metadata": {},
   "source": [
    "## Saving other results\n",
    "\n",
    "Details on how to extract and save other results required for the graph neural network emulator (like the mesh topology) are provided in [this notebook here](https://github.com/dodaltuin/soft-tissue-pignn/blob/main/data/fenicsMeshProcessing/FenicsMeshProcessingLV.ipynb)."
   ]
  }
 ],
 "metadata": {
  "kernelspec": {
   "display_name": "Python 3 (ipykernel)",
   "language": "python",
   "name": "python3"
  },
  "language_info": {
   "codemirror_mode": {
    "name": "ipython",
    "version": 3
   },
   "file_extension": ".py",
   "mimetype": "text/x-python",
   "name": "python",
   "nbconvert_exporter": "python",
   "pygments_lexer": "ipython3",
   "version": "3.12.3"
  },
  "varInspector": {
   "cols": {
    "lenName": 16,
    "lenType": 16,
    "lenVar": 40
   },
   "kernels_config": {
    "python": {
     "delete_cmd_postfix": "",
     "delete_cmd_prefix": "del ",
     "library": "var_list.py",
     "varRefreshCmd": "print(var_dic_list())"
    },
    "r": {
     "delete_cmd_postfix": ") ",
     "delete_cmd_prefix": "rm(",
     "library": "var_list.r",
     "varRefreshCmd": "cat(var_dic_list()) "
    }
   },
   "types_to_exclude": [
    "module",
    "function",
    "builtin_function_or_method",
    "instance",
    "_Feature"
   ],
   "window_display": false
  }
 },
 "nbformat": 4,
 "nbformat_minor": 4
}
